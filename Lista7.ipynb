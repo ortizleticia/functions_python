{
 "cells": [
  {
   "cell_type": "code",
   "execution_count": 87,
   "id": "899b6abe",
   "metadata": {},
   "outputs": [
    {
     "name": "stdout",
     "output_type": "stream",
     "text": [
      "Digite o número: 40\n",
      "20.0\n"
     ]
    }
   ],
   "source": [
    "'''1.Elabore um programa que leia um número, e se ele for maior do que 20, escreva a metade desse número, \n",
    "   caso contrário escreva o próprio número.'''\n",
    "\n",
    "\n",
    "def metade_numero (numero):\n",
    "    num = float(numero)\n",
    "  \n",
    "    if num > 20:\n",
    "        metade = num/2\n",
    "        return metade\n",
    "    elif num <=20:\n",
    "        return num\n",
    "\n",
    "\n",
    "ler_num= input('Digite o número: ')\n",
    "total_metade = metade_numero(ler_num)\n",
    "print(total_metade)"
   ]
  },
  {
   "cell_type": "code",
   "execution_count": 33,
   "id": "91451878",
   "metadata": {},
   "outputs": [
    {
     "name": "stdout",
     "output_type": "stream",
     "text": [
      "Digite o primeiro valor: 120\n",
      "Digite o segundo valor: 240\n",
      "A divisão é 2.0\n"
     ]
    }
   ],
   "source": [
    "'''2.Elabore um programa que leia dois valores, calcule e apresente a divisão do maior pelo menor.'''\n",
    "\n",
    "def maior_menor (a,b):\n",
    "    num_a = float(a)\n",
    "    num_b = float(b)\n",
    "  \n",
    "    if (num_a > num_b):\n",
    "        div = num_a/num_b\n",
    "    elif (num_b > num_a):\n",
    "        div = num_b/num_a\n",
    "        \n",
    "    return div\n",
    "\n",
    "\n",
    "ler_numA = input('Digite o primeiro valor: ')\n",
    "ler_numB = input('Digite o segundo valor: ')\n",
    "total = maior_menor(ler_numA, ler_numB)\n",
    "print('A divisão é',total)"
   ]
  },
  {
   "cell_type": "code",
   "execution_count": 38,
   "id": "ff7a4e63",
   "metadata": {},
   "outputs": [
    {
     "name": "stdout",
     "output_type": "stream",
     "text": [
      "Digite o valor: 0\n",
      "positivo\n"
     ]
    }
   ],
   "source": [
    "'''3.Faça um programa para receber um valor e escrever se é “Positivo” ou “Negativo” (considere o valor zero como positivo).'''\n",
    "\n",
    "def positivo_negativo (x):\n",
    "    num = float(x)\n",
    "      \n",
    "    if (num >= 0):\n",
    "        print(\"Positivo\")\n",
    "    elif (num < 0):\n",
    "        print(\"Negativo\")\n",
    "        \n",
    "ler_num = input('Digite o valor: ')\n",
    "total = positivo_negativo (ler_num)"
   ]
  },
  {
   "cell_type": "code",
   "execution_count": 57,
   "id": "8f5b57cc",
   "metadata": {},
   "outputs": [
    {
     "name": "stdout",
     "output_type": "stream",
     "text": [
      "Digite o valor: -9\n",
      "Negativo\n"
     ]
    }
   ],
   "source": [
    "'''4.Faça um programa para receber um valor e escrever se é “positivo”, “negativo” ou \"elemento neutro\".'''\n",
    "\n",
    "def positivo_negativo_neutro (x):\n",
    "    num = float(x)\n",
    "      \n",
    "    if (num > 0):\n",
    "        print(\"Positivo\")\n",
    "    elif (num < 0):\n",
    "        print(\"Negativo\")\n",
    "    elif (num == 0):\n",
    "        print(\"Elemento neutro\")\n",
    "        \n",
    "ler_num = input('Digite o valor: ')\n",
    "total = positivo_negativo_neutro (ler_num)"
   ]
  },
  {
   "cell_type": "code",
   "execution_count": 61,
   "id": "1fb417f7",
   "metadata": {},
   "outputs": [
    {
     "name": "stdout",
     "output_type": "stream",
     "text": [
      "Digite o primeiro número: 5\n",
      "Digite o segundo número: 2\n",
      "2.0\n"
     ]
    }
   ],
   "source": [
    "'''5.Faça um programa que receba dois números e apresente o menor valor'''\n",
    "\n",
    "def menor_valor (a,b):\n",
    "    num_a = float(a)\n",
    "    num_b = float(b)\n",
    "      \n",
    "    if (num_a < num_b):\n",
    "        print(num_a)\n",
    "    elif (num_b < num_a):\n",
    "        print(num_b)\n",
    "           \n",
    "ler_num_a = input('Digite o primeiro número: ')\n",
    "ler_num_b = input('Digite o segundo número: ')\n",
    "menor = menor_valor (ler_num_a,ler_num_b)"
   ]
  },
  {
   "cell_type": "code",
   "execution_count": 68,
   "id": "8f134c3d",
   "metadata": {},
   "outputs": [
    {
     "name": "stdout",
     "output_type": "stream",
     "text": [
      "Digite o valor: -1\n",
      "O resultado é 1.0\n"
     ]
    }
   ],
   "source": [
    "'''6.Elabore um programa que leia um número e, se ele for positivo, \n",
    "   apresente a metade desse número, caso contrário apresente o número ao quadrado.'''\n",
    "\n",
    "def positivo (x):\n",
    "    num = float(x)\n",
    "      \n",
    "    if (num >= 0):\n",
    "        num_metade = num / 2\n",
    "        return num_metade\n",
    "\n",
    "    elif (num < 0):\n",
    "        num_quadrado = num**2\n",
    "        return num_quadrado\n",
    "        \n",
    "ler_num = input('Digite o valor: ')\n",
    "total = positivo(ler_num)\n",
    "print('O resultado é',total)"
   ]
  },
  {
   "cell_type": "code",
   "execution_count": 71,
   "id": "bf25a0f7",
   "metadata": {},
   "outputs": [
    {
     "name": "stdout",
     "output_type": "stream",
     "text": [
      "Digite o valor: 11\n",
      "É MAIOR QUE 10!\n"
     ]
    }
   ],
   "source": [
    "'''7.Elabore um programa que leia um valor e escrever a mensagem É MAIOR QUE 10! se o valor lido for maior que 10, \n",
    "   caso contrário escrever NÃO É MAIOR QUE 10!'''\n",
    "\n",
    "def maior_10 (x):\n",
    "    num = float(x)\n",
    "      \n",
    "    if (num > 10):\n",
    "        print(\"É MAIOR QUE 10!\")\n",
    "    elif (num <= 10):\n",
    "        print(\"NÃO É MAIOR QUE 10!\")\n",
    "        \n",
    "ler_num = input('Digite o valor: ')\n",
    "total = maior_10 (ler_num)"
   ]
  },
  {
   "cell_type": "code",
   "execution_count": 75,
   "id": "13d935a0",
   "metadata": {},
   "outputs": [
    {
     "name": "stdout",
     "output_type": "stream",
     "text": [
      "Digite a primeira nota: 10\n",
      "Digite a segunda nota: 9\n",
      "Digite a terceira nota: 8\n",
      "Digite a quarta nota: 7\n",
      "Aprovado\n"
     ]
    }
   ],
   "source": [
    "'''8.Faça um programa que receba quatro notas de um aluno, calcule \n",
    "   e apresente a média aritmética das notas e a mensagem “aprovado” ou “reprovado”, considerando, para aprovação, média 8,0.'''\n",
    "\n",
    "def media_aluno (a,b,c,d):\n",
    "    n1 = float(a)\n",
    "    n2 = float(b)\n",
    "    n3 = float(c)\n",
    "    n4 = float(d)\n",
    "    \n",
    "    media = (n1+n2+n3+n4)/4\n",
    "      \n",
    "    if (media >= 8):\n",
    "        print(\"Aprovado\")\n",
    "    elif (media < 8):\n",
    "        print(\"Reprovado\")\n",
    "        \n",
    "ler_n1 = input('Digite a primeira nota: ')\n",
    "ler_n2 = input('Digite a segunda nota: ')\n",
    "ler_n3 = input('Digite a terceira nota: ')\n",
    "ler_n4 = input('Digite a quarta nota: ')\n",
    "total = media_aluno (ler_n1,ler_n2,ler_n3,ler_n4)"
   ]
  },
  {
   "cell_type": "code",
   "execution_count": 83,
   "id": "51c4814a",
   "metadata": {},
   "outputs": [
    {
     "name": "stdout",
     "output_type": "stream",
     "text": [
      "Digite o primeiro valor: 1\n",
      "Digite o segundo valor: 3\n",
      "Digite o terceiro valor: 2\n",
      "3.0\n"
     ]
    }
   ],
   "source": [
    "'''9.Faça um programa que leia três valores (considere que não serão informados valores iguais) e apresente o maior deles.'''\n",
    "\n",
    "\n",
    "def maior_valor (a, b, c):\n",
    "    v1 = float(a)\n",
    "    v2 = float(b)\n",
    "    v3 = float(c)\n",
    "    \n",
    "    if(v1 > v2 and v2 > v3):\n",
    "        print(v1)\n",
    "    elif(v2 > v3 and v3 > v1):\n",
    "        print(v2)\n",
    "    elif(v3 > v2 and v2 > v1):\n",
    "        print(v3)\n",
    "        \n",
    "ler_v1 = input('Digite o primeiro valor: ')\n",
    "ler_v2 = input('Digite o segundo valor: ')\n",
    "ler_v3 = input('Digite o terceiro valor: ')\n",
    "total = maior_valor (ler_v1,ler_v2,ler_v3)"
   ]
  },
  {
   "cell_type": "code",
   "execution_count": 85,
   "id": "90b49a93",
   "metadata": {},
   "outputs": [
    {
     "name": "stdout",
     "output_type": "stream",
     "text": [
      "Digite o número de maçãs compradas: 5\n",
      "O total de maçãs compradas é: R$ 6.5\n"
     ]
    }
   ],
   "source": [
    "'''10.As maçãs custam R$ 1,30 cada se forem compradas menos de uma dúzia, e R$ 1,00 se forem compradas pelo menos 12. \n",
    "   Escreva um programa que leia o número de maçãs compradas, calcule e escreva o custo total da compra.'''\n",
    "\n",
    "def maças (x):\n",
    "    m = int(x)\n",
    "    \n",
    "    if(m<12):\n",
    "        total = m*1.30\n",
    "    else:\n",
    "        total = m*1\n",
    "    \n",
    "    return total\n",
    "        \n",
    "ler_m = input('Digite o número de maçãs compradas: ')\n",
    "total = maças (ler_m)\n",
    "print(\"O total de maçãs compradas é: R$\",total)"
   ]
  }
 ],
 "metadata": {
  "kernelspec": {
   "display_name": "Python 3",
   "language": "python",
   "name": "python3"
  },
  "language_info": {
   "codemirror_mode": {
    "name": "ipython",
    "version": 3
   },
   "file_extension": ".py",
   "mimetype": "text/x-python",
   "name": "python",
   "nbconvert_exporter": "python",
   "pygments_lexer": "ipython3",
   "version": "3.8.8"
  }
 },
 "nbformat": 4,
 "nbformat_minor": 5
}
